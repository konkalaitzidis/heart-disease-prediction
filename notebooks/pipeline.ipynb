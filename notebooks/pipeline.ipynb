{
 "cells": [
  {
   "cell_type": "markdown",
   "id": "6fd6e676",
   "metadata": {},
   "source": [
    "## Step 1. EDA"
   ]
  },
  {
   "cell_type": "markdown",
   "id": "dd431ca7",
   "metadata": {},
   "source": [
    "1.1 Import Libraries"
   ]
  },
  {
   "cell_type": "code",
   "execution_count": 1,
   "id": "645e6438",
   "metadata": {},
   "outputs": [
    {
     "name": "stdout",
     "output_type": "stream",
     "text": [
      "Data file: /Users/konstantinoskalaitzidis/Developer/heart-disease-prediction/notebooks/../data/heart_disease_uci.csv\n"
     ]
    }
   ],
   "source": [
    "import os\n",
    "import pandas as pd\n",
    "import numpy as np\n",
    "import matplotlib.pyplot as plt\n",
    "import seaborn as sns\n",
    "\n",
    "sns.set(style=\"whitegrid\", palette=\"muted\")\n",
    "%matplotlib inline\n",
    "\n",
    "DATA_DIR = os.path.join(os.getcwd(), \"../data\")\n",
    "fn = os.path.join(DATA_DIR, \"heart_disease_uci.csv\") \n",
    "print(\"Data file:\", fn)"
   ]
  },
  {
   "cell_type": "markdown",
   "id": "a92b6f0f",
   "metadata": {},
   "source": [
    "1.2 Load dataset and preview"
   ]
  },
  {
   "cell_type": "code",
   "execution_count": 2,
   "id": "e2dbfe15",
   "metadata": {},
   "outputs": [
    {
     "data": {
      "text/html": [
       "<div>\n",
       "<style scoped>\n",
       "    .dataframe tbody tr th:only-of-type {\n",
       "        vertical-align: middle;\n",
       "    }\n",
       "\n",
       "    .dataframe tbody tr th {\n",
       "        vertical-align: top;\n",
       "    }\n",
       "\n",
       "    .dataframe thead th {\n",
       "        text-align: right;\n",
       "    }\n",
       "</style>\n",
       "<table border=\"1\" class=\"dataframe\">\n",
       "  <thead>\n",
       "    <tr style=\"text-align: right;\">\n",
       "      <th></th>\n",
       "      <th>id</th>\n",
       "      <th>age</th>\n",
       "      <th>sex</th>\n",
       "      <th>dataset</th>\n",
       "      <th>cp</th>\n",
       "      <th>trestbps</th>\n",
       "      <th>chol</th>\n",
       "      <th>fbs</th>\n",
       "      <th>restecg</th>\n",
       "      <th>thalch</th>\n",
       "      <th>exang</th>\n",
       "      <th>oldpeak</th>\n",
       "      <th>slope</th>\n",
       "      <th>ca</th>\n",
       "      <th>thal</th>\n",
       "      <th>num</th>\n",
       "    </tr>\n",
       "  </thead>\n",
       "  <tbody>\n",
       "    <tr>\n",
       "      <th>0</th>\n",
       "      <td>1</td>\n",
       "      <td>63</td>\n",
       "      <td>Male</td>\n",
       "      <td>Cleveland</td>\n",
       "      <td>typical angina</td>\n",
       "      <td>145.0</td>\n",
       "      <td>233.0</td>\n",
       "      <td>True</td>\n",
       "      <td>lv hypertrophy</td>\n",
       "      <td>150.0</td>\n",
       "      <td>False</td>\n",
       "      <td>2.3</td>\n",
       "      <td>downsloping</td>\n",
       "      <td>0.0</td>\n",
       "      <td>fixed defect</td>\n",
       "      <td>0</td>\n",
       "    </tr>\n",
       "    <tr>\n",
       "      <th>1</th>\n",
       "      <td>2</td>\n",
       "      <td>67</td>\n",
       "      <td>Male</td>\n",
       "      <td>Cleveland</td>\n",
       "      <td>asymptomatic</td>\n",
       "      <td>160.0</td>\n",
       "      <td>286.0</td>\n",
       "      <td>False</td>\n",
       "      <td>lv hypertrophy</td>\n",
       "      <td>108.0</td>\n",
       "      <td>True</td>\n",
       "      <td>1.5</td>\n",
       "      <td>flat</td>\n",
       "      <td>3.0</td>\n",
       "      <td>normal</td>\n",
       "      <td>2</td>\n",
       "    </tr>\n",
       "    <tr>\n",
       "      <th>2</th>\n",
       "      <td>3</td>\n",
       "      <td>67</td>\n",
       "      <td>Male</td>\n",
       "      <td>Cleveland</td>\n",
       "      <td>asymptomatic</td>\n",
       "      <td>120.0</td>\n",
       "      <td>229.0</td>\n",
       "      <td>False</td>\n",
       "      <td>lv hypertrophy</td>\n",
       "      <td>129.0</td>\n",
       "      <td>True</td>\n",
       "      <td>2.6</td>\n",
       "      <td>flat</td>\n",
       "      <td>2.0</td>\n",
       "      <td>reversable defect</td>\n",
       "      <td>1</td>\n",
       "    </tr>\n",
       "    <tr>\n",
       "      <th>3</th>\n",
       "      <td>4</td>\n",
       "      <td>37</td>\n",
       "      <td>Male</td>\n",
       "      <td>Cleveland</td>\n",
       "      <td>non-anginal</td>\n",
       "      <td>130.0</td>\n",
       "      <td>250.0</td>\n",
       "      <td>False</td>\n",
       "      <td>normal</td>\n",
       "      <td>187.0</td>\n",
       "      <td>False</td>\n",
       "      <td>3.5</td>\n",
       "      <td>downsloping</td>\n",
       "      <td>0.0</td>\n",
       "      <td>normal</td>\n",
       "      <td>0</td>\n",
       "    </tr>\n",
       "    <tr>\n",
       "      <th>4</th>\n",
       "      <td>5</td>\n",
       "      <td>41</td>\n",
       "      <td>Female</td>\n",
       "      <td>Cleveland</td>\n",
       "      <td>atypical angina</td>\n",
       "      <td>130.0</td>\n",
       "      <td>204.0</td>\n",
       "      <td>False</td>\n",
       "      <td>lv hypertrophy</td>\n",
       "      <td>172.0</td>\n",
       "      <td>False</td>\n",
       "      <td>1.4</td>\n",
       "      <td>upsloping</td>\n",
       "      <td>0.0</td>\n",
       "      <td>normal</td>\n",
       "      <td>0</td>\n",
       "    </tr>\n",
       "  </tbody>\n",
       "</table>\n",
       "</div>"
      ],
      "text/plain": [
       "   id  age     sex    dataset               cp  trestbps   chol    fbs  \\\n",
       "0   1   63    Male  Cleveland   typical angina     145.0  233.0   True   \n",
       "1   2   67    Male  Cleveland     asymptomatic     160.0  286.0  False   \n",
       "2   3   67    Male  Cleveland     asymptomatic     120.0  229.0  False   \n",
       "3   4   37    Male  Cleveland      non-anginal     130.0  250.0  False   \n",
       "4   5   41  Female  Cleveland  atypical angina     130.0  204.0  False   \n",
       "\n",
       "          restecg  thalch  exang  oldpeak        slope   ca  \\\n",
       "0  lv hypertrophy   150.0  False      2.3  downsloping  0.0   \n",
       "1  lv hypertrophy   108.0   True      1.5         flat  3.0   \n",
       "2  lv hypertrophy   129.0   True      2.6         flat  2.0   \n",
       "3          normal   187.0  False      3.5  downsloping  0.0   \n",
       "4  lv hypertrophy   172.0  False      1.4    upsloping  0.0   \n",
       "\n",
       "                thal  num  \n",
       "0       fixed defect    0  \n",
       "1             normal    2  \n",
       "2  reversable defect    1  \n",
       "3             normal    0  \n",
       "4             normal    0  "
      ]
     },
     "execution_count": 2,
     "metadata": {},
     "output_type": "execute_result"
    }
   ],
   "source": [
    "df = pd.read_csv(fn)\n",
    "df.head()"
   ]
  },
  {
   "cell_type": "markdown",
   "id": "3431ce8c",
   "metadata": {},
   "source": [
    "1.3 quick overview"
   ]
  },
  {
   "cell_type": "code",
   "execution_count": 3,
   "id": "14772120",
   "metadata": {},
   "outputs": [
    {
     "name": "stdout",
     "output_type": "stream",
     "text": [
      "(920, 16)\n",
      "['id', 'age', 'sex', 'dataset', 'cp', 'trestbps', 'chol', 'fbs', 'restecg', 'thalch', 'exang', 'oldpeak', 'slope', 'ca', 'thal', 'num']\n",
      "<class 'pandas.core.frame.DataFrame'>\n",
      "RangeIndex: 920 entries, 0 to 919\n",
      "Data columns (total 16 columns):\n",
      " #   Column    Non-Null Count  Dtype  \n",
      "---  ------    --------------  -----  \n",
      " 0   id        920 non-null    int64  \n",
      " 1   age       920 non-null    int64  \n",
      " 2   sex       920 non-null    object \n",
      " 3   dataset   920 non-null    object \n",
      " 4   cp        920 non-null    object \n",
      " 5   trestbps  861 non-null    float64\n",
      " 6   chol      890 non-null    float64\n",
      " 7   fbs       830 non-null    object \n",
      " 8   restecg   918 non-null    object \n",
      " 9   thalch    865 non-null    float64\n",
      " 10  exang     865 non-null    object \n",
      " 11  oldpeak   858 non-null    float64\n",
      " 12  slope     611 non-null    object \n",
      " 13  ca        309 non-null    float64\n",
      " 14  thal      434 non-null    object \n",
      " 15  num       920 non-null    int64  \n",
      "dtypes: float64(5), int64(3), object(8)\n",
      "memory usage: 115.1+ KB\n",
      "None\n",
      "               id         age    trestbps        chol      thalch     oldpeak  \\\n",
      "count  920.000000  920.000000  861.000000  890.000000  865.000000  858.000000   \n",
      "mean   460.500000   53.510870  132.132404  199.130337  137.545665    0.878788   \n",
      "std    265.725422    9.424685   19.066070  110.780810   25.926276    1.091226   \n",
      "min      1.000000   28.000000    0.000000    0.000000   60.000000   -2.600000   \n",
      "25%    230.750000   47.000000  120.000000  175.000000  120.000000    0.000000   \n",
      "50%    460.500000   54.000000  130.000000  223.000000  140.000000    0.500000   \n",
      "75%    690.250000   60.000000  140.000000  268.000000  157.000000    1.500000   \n",
      "max    920.000000   77.000000  200.000000  603.000000  202.000000    6.200000   \n",
      "\n",
      "               ca         num  \n",
      "count  309.000000  920.000000  \n",
      "mean     0.676375    0.995652  \n",
      "std      0.935653    1.142693  \n",
      "min      0.000000    0.000000  \n",
      "25%      0.000000    0.000000  \n",
      "50%      0.000000    1.000000  \n",
      "75%      1.000000    2.000000  \n",
      "max      3.000000    4.000000  \n"
     ]
    }
   ],
   "source": [
    "print(df.shape)           # rows, columns\n",
    "print(df.columns.tolist())# feature names\n",
    "print(df.info())          # data types and non-null counts\n",
    "print(df.describe())      # summary statistics"
   ]
  },
  {
   "cell_type": "markdown",
   "id": "f7aeecea",
   "metadata": {},
   "source": [
    "This dataset contains 920 rows and 16 columns (features)"
   ]
  },
  {
   "cell_type": "markdown",
   "id": "b02246c1",
   "metadata": {},
   "source": [
    "1.4 Check missing values"
   ]
  },
  {
   "cell_type": "code",
   "execution_count": 4,
   "id": "d98bce12",
   "metadata": {},
   "outputs": [
    {
     "name": "stdout",
     "output_type": "stream",
     "text": [
      "id            0\n",
      "age           0\n",
      "sex           0\n",
      "dataset       0\n",
      "cp            0\n",
      "trestbps     59\n",
      "chol         30\n",
      "fbs          90\n",
      "restecg       2\n",
      "thalch       55\n",
      "exang        55\n",
      "oldpeak      62\n",
      "slope       309\n",
      "ca          611\n",
      "thal        486\n",
      "num           0\n",
      "dtype: int64\n"
     ]
    }
   ],
   "source": [
    "print(df.isnull().sum())"
   ]
  },
  {
   "cell_type": "markdown",
   "id": "ecafbfc2",
   "metadata": {},
   "source": [
    "Some columns have a lot of missing values (slope, ca, thal), more than 50% in some cases. Others have moderate missing values (trestbps, chol, fbs, thalch, exang, oldpeak). The restecg feature has very few missing values, so it’s easier to handle."
   ]
  },
  {
   "cell_type": "markdown",
   "id": "3e535e14",
   "metadata": {},
   "source": [
    "1.5 Data Cleaning"
   ]
  },
  {
   "cell_type": "code",
   "execution_count": 5,
   "id": "e9cedd63",
   "metadata": {},
   "outputs": [
    {
     "name": "stderr",
     "output_type": "stream",
     "text": [
      "/var/folders/4n/41px7rn169s5k2y3v36v4l740000gn/T/ipykernel_54022/376792942.py:6: FutureWarning: A value is trying to be set on a copy of a DataFrame or Series through chained assignment using an inplace method.\n",
      "The behavior will change in pandas 3.0. This inplace method will never work because the intermediate object on which we are setting values always behaves as a copy.\n",
      "\n",
      "For example, when doing 'df[col].method(value, inplace=True)', try using 'df.method({col: value}, inplace=True)' or df[col] = df[col].method(value) instead, to perform the operation inplace on the original object.\n",
      "\n",
      "\n",
      "  df_clean[col].fillna(df_clean[col].mode()[0], inplace=True)\n",
      "/var/folders/4n/41px7rn169s5k2y3v36v4l740000gn/T/ipykernel_54022/376792942.py:6: FutureWarning: Downcasting object dtype arrays on .fillna, .ffill, .bfill is deprecated and will change in a future version. Call result.infer_objects(copy=False) instead. To opt-in to the future behavior, set `pd.set_option('future.no_silent_downcasting', True)`\n",
      "  df_clean[col].fillna(df_clean[col].mode()[0], inplace=True)\n",
      "/var/folders/4n/41px7rn169s5k2y3v36v4l740000gn/T/ipykernel_54022/376792942.py:11: FutureWarning: A value is trying to be set on a copy of a DataFrame or Series through chained assignment using an inplace method.\n",
      "The behavior will change in pandas 3.0. This inplace method will never work because the intermediate object on which we are setting values always behaves as a copy.\n",
      "\n",
      "For example, when doing 'df[col].method(value, inplace=True)', try using 'df.method({col: value}, inplace=True)' or df[col] = df[col].method(value) instead, to perform the operation inplace on the original object.\n",
      "\n",
      "\n",
      "  df_clean[col].fillna(df_clean[col].median(), inplace=True)\n",
      "/var/folders/4n/41px7rn169s5k2y3v36v4l740000gn/T/ipykernel_54022/376792942.py:11: FutureWarning: A value is trying to be set on a copy of a DataFrame or Series through chained assignment using an inplace method.\n",
      "The behavior will change in pandas 3.0. This inplace method will never work because the intermediate object on which we are setting values always behaves as a copy.\n",
      "\n",
      "For example, when doing 'df[col].method(value, inplace=True)', try using 'df.method({col: value}, inplace=True)' or df[col] = df[col].method(value) instead, to perform the operation inplace on the original object.\n",
      "\n",
      "\n",
      "  df_clean[col].fillna(df_clean[col].median(), inplace=True)\n",
      "/var/folders/4n/41px7rn169s5k2y3v36v4l740000gn/T/ipykernel_54022/376792942.py:11: FutureWarning: A value is trying to be set on a copy of a DataFrame or Series through chained assignment using an inplace method.\n",
      "The behavior will change in pandas 3.0. This inplace method will never work because the intermediate object on which we are setting values always behaves as a copy.\n",
      "\n",
      "For example, when doing 'df[col].method(value, inplace=True)', try using 'df.method({col: value}, inplace=True)' or df[col] = df[col].method(value) instead, to perform the operation inplace on the original object.\n",
      "\n",
      "\n",
      "  df_clean[col].fillna(df_clean[col].median(), inplace=True)\n",
      "/var/folders/4n/41px7rn169s5k2y3v36v4l740000gn/T/ipykernel_54022/376792942.py:11: FutureWarning: A value is trying to be set on a copy of a DataFrame or Series through chained assignment using an inplace method.\n",
      "The behavior will change in pandas 3.0. This inplace method will never work because the intermediate object on which we are setting values always behaves as a copy.\n",
      "\n",
      "For example, when doing 'df[col].method(value, inplace=True)', try using 'df.method({col: value}, inplace=True)' or df[col] = df[col].method(value) instead, to perform the operation inplace on the original object.\n",
      "\n",
      "\n",
      "  df_clean[col].fillna(df_clean[col].median(), inplace=True)\n",
      "/var/folders/4n/41px7rn169s5k2y3v36v4l740000gn/T/ipykernel_54022/376792942.py:14: FutureWarning: A value is trying to be set on a copy of a DataFrame or Series through chained assignment using an inplace method.\n",
      "The behavior will change in pandas 3.0. This inplace method will never work because the intermediate object on which we are setting values always behaves as a copy.\n",
      "\n",
      "For example, when doing 'df[col].method(value, inplace=True)', try using 'df.method({col: value}, inplace=True)' or df[col] = df[col].method(value) instead, to perform the operation inplace on the original object.\n",
      "\n",
      "\n",
      "  df_clean[\"restecg\"].fillna(df_clean[\"restecg\"].mode()[0], inplace=True)\n"
     ]
    },
    {
     "data": {
      "text/plain": [
       "id          0\n",
       "age         0\n",
       "sex         0\n",
       "dataset     0\n",
       "cp          0\n",
       "trestbps    0\n",
       "chol        0\n",
       "fbs         0\n",
       "restecg     0\n",
       "thalch      0\n",
       "exang       0\n",
       "oldpeak     0\n",
       "num         0\n",
       "dtype: int64"
      ]
     },
     "execution_count": 5,
     "metadata": {},
     "output_type": "execute_result"
    }
   ],
   "source": [
    "# Drop columns with too many missing values\n",
    "df_clean = df.drop(columns=[\"ca\", \"thal\", \"slope\"])\n",
    "\n",
    "# Impute categorical/binary features with mode\n",
    "for col in [\"fbs\", \"exang\"]:\n",
    "    df_clean[col].fillna(df_clean[col].mode()[0], inplace=True)\n",
    "\n",
    "# Impute remaining numeric missing values with median\n",
    "for col in df_clean.select_dtypes(include=np.number).columns:\n",
    "    if df_clean[col].isnull().sum() > 0:\n",
    "        df_clean[col].fillna(df_clean[col].median(), inplace=True)\n",
    "\n",
    "# Impute restecg with mode\n",
    "df_clean[\"restecg\"].fillna(df_clean[\"restecg\"].mode()[0], inplace=True)\n",
    "\n",
    "df_clean.isnull().sum() # Check missing values again"
   ]
  },
  {
   "cell_type": "markdown",
   "id": "60335467",
   "metadata": {},
   "source": [
    "Now we can continue with exploring the dataset"
   ]
  },
  {
   "cell_type": "markdown",
   "id": "4e230700",
   "metadata": {},
   "source": [
    "1.6 Target variable distribution"
   ]
  },
  {
   "cell_type": "markdown",
   "id": "32e5d6e7",
   "metadata": {},
   "source": [
    "The feature \"num\" is our target variable. Its value range from 0 to 4 meaning that this dataset is suitable as a multiclass classification problem. Lets see if the classes are balanced. "
   ]
  },
  {
   "cell_type": "code",
   "execution_count": 6,
   "id": "f57d5e22",
   "metadata": {},
   "outputs": [
    {
     "data": {
      "image/png": "[encoded data removed]",
      "text/plain": [
       "<Figure size 640x480 with 1 Axes>"
      ]
     },
     "metadata": {},
     "output_type": "display_data"
    },
    {
     "name": "stdout",
     "output_type": "stream",
     "text": [
      "num\n",
      "0    44.673913\n",
      "1    28.804348\n",
      "2    11.847826\n",
      "3    11.630435\n",
      "4     3.043478\n",
      "Name: proportion, dtype: float64\n"
     ]
    }
   ],
   "source": [
    "target = \"num\"\n",
    "sns.countplot(x=target, data=df)\n",
    "plt.title(\"Heart Disease Class Balance\")\n",
    "plt.xlabel(\"Target (0=no disease, 1=mild, 2=moderate, 3=severe, 4= very severe)\")\n",
    "plt.ylabel(\"Count\")\n",
    "plt.show()\n",
    "\n",
    "# Optional: percentage\n",
    "print(df[target].value_counts(normalize=True) * 100)"
   ]
  },
  {
   "cell_type": "markdown",
   "id": "5c161a1f",
   "metadata": {},
   "source": [
    "About 45% of patients have num = 0 → no heart disease\n",
    "The remaining 55% have num = 1–4 → some level of heart disease\n",
    "So the dataset is not extremely imbalanced, but it’s also not perfectly balanced. Roughly 45% vs 55% if we convert it to a binary problem (target = 0 or 1)."
   ]
  },
  {
   "cell_type": "markdown",
   "id": "a41a5acc",
   "metadata": {},
   "source": [
    "1.7 Feature distributions (optional)"
   ]
  },
  {
   "cell_type": "code",
   "execution_count": 7,
   "id": "5da82e9d",
   "metadata": {},
   "outputs": [],
   "source": [
    "numeric_features = df.select_dtypes(include=[np.number]).columns.tolist()\n",
    "numeric_features.remove(target)\n",
    "\n",
    "# df[numeric_features].hist(figsize=(15,10), bins=20)\n",
    "# plt.suptitle(\"Numeric Feature Distributions\")\n",
    "# plt.show()"
   ]
  },
  {
   "cell_type": "markdown",
   "id": "0aa82ed6",
   "metadata": {},
   "source": [
    "1.8 Correlation Heatmap"
   ]
  },
  {
   "cell_type": "markdown",
   "id": "ca5025c2",
   "metadata": {},
   "source": [
    "The correlation between a feature and the target variable (num) will tell us which features are important. "
   ]
  },
  {
   "cell_type": "code",
   "execution_count": 8,
   "id": "fadcbfc1",
   "metadata": {},
   "outputs": [
    {
     "data": {
      "image/png": "[encoded data removed]",
      "text/plain": [
       "<Figure size 1000x800 with 2 Axes>"
      ]
     },
     "metadata": {},
     "output_type": "display_data"
    }
   ],
   "source": [
    "# Select only numeric columns\n",
    "numeric_df = df_clean.select_dtypes(include=['float64', 'int64', 'bool'])\n",
    "\n",
    "# Compute correlation\n",
    "corr = numeric_df.corr()\n",
    "\n",
    "# Plot heatmap\n",
    "plt.figure(figsize=(10, 8))\n",
    "sns.heatmap(corr, annot=True, cmap='coolwarm', fmt='.2f')\n",
    "plt.title('Correlation Heatmap (Numeric Features Only)')\n",
    "plt.show()"
   ]
  },
  {
   "cell_type": "markdown",
   "id": "cfaa82f1",
   "metadata": {},
   "source": [
    "We can see that features such as: oldpeak, exang, fbs, trestbps and age, have a a positive correlation with the target variable"
   ]
  },
  {
   "cell_type": "markdown",
   "id": "7e31b0e4",
   "metadata": {},
   "source": [
    "1.9 Boxplots for features by target"
   ]
  },
  {
   "cell_type": "code",
   "execution_count": 9,
   "id": "aa42f1b7",
   "metadata": {},
   "outputs": [],
   "source": [
    "# for col in numeric_features:\n",
    "#     plt.figure(figsize=(6,4))\n",
    "#     sns.boxplot(x=target, y=col, data=df)\n",
    "#     plt.title(f\"{col} distribution by Heart Disease\")\n",
    "#     plt.show()\n"
   ]
  },
  {
   "cell_type": "markdown",
   "id": "7dd76bd4",
   "metadata": {},
   "source": [
    "1.10 Optional: pairplot"
   ]
  },
  {
   "cell_type": "code",
   "execution_count": 10,
   "id": "1907a80d",
   "metadata": {},
   "outputs": [],
   "source": [
    "# sns.pairplot(df, hue=target, vars=numeric_features[:5])  # first 5 features for clarity\n",
    "# plt.show()"
   ]
  },
  {
   "cell_type": "markdown",
   "id": "75c07235",
   "metadata": {},
   "source": [
    "1.11 Convert the problem from multiclass to binary"
   ]
  },
  {
   "cell_type": "code",
   "execution_count": 11,
   "id": "47d1b5c3",
   "metadata": {},
   "outputs": [
    {
     "data": {
      "image/png": "[encoded data removed]",
      "text/plain": [
       "<Figure size 640x480 with 1 Axes>"
      ]
     },
     "metadata": {},
     "output_type": "display_data"
    },
    {
     "name": "stdout",
     "output_type": "stream",
     "text": [
      "target\n",
      "1    55.326087\n",
      "0    44.673913\n",
      "Name: proportion, dtype: float64\n"
     ]
    }
   ],
   "source": [
    "# Convert to binary classification\n",
    "df_clean['target'] = df_clean['num'].apply(lambda x: 0 if x == 0 else 1)\n",
    "\n",
    "# Verify distribution\n",
    "import seaborn as sns\n",
    "import matplotlib.pyplot as plt\n",
    "\n",
    "sns.countplot(x='target', data=df_clean)\n",
    "plt.title('Heart Disease Binary Class Balance')\n",
    "plt.xlabel('Target (0 = No Disease, 1 = Disease Present)')\n",
    "plt.ylabel('Count')\n",
    "plt.show()\n",
    "\n",
    "# Print percentages\n",
    "print(df_clean['target'].value_counts(normalize=True) * 100)\n"
   ]
  },
  {
   "cell_type": "markdown",
   "id": "a087ffc7",
   "metadata": {},
   "source": [
    "Now its more clear for us to define our RQ: Can we predict whether a patient has heart disease based on clinical features, and which features contribute most to this prediction?\n"
   ]
  },
  {
   "cell_type": "markdown",
   "id": "275bb03c",
   "metadata": {},
   "source": [
    "## Step 2 — Feature Engineering & Selection"
   ]
  },
  {
   "cell_type": "markdown",
   "id": "4f33c4a9",
   "metadata": {},
   "source": [
    "2.1 Drop unused columns"
   ]
  },
  {
   "cell_type": "code",
   "execution_count": 12,
   "id": "c28dcf3f",
   "metadata": {},
   "outputs": [],
   "source": [
    "df_model = df_clean.drop(columns=['id', 'num'])"
   ]
  },
  {
   "cell_type": "code",
   "execution_count": 13,
   "id": "038bc753",
   "metadata": {},
   "outputs": [
    {
     "data": {
      "text/html": [
       "<div>\n",
       "<style scoped>\n",
       "    .dataframe tbody tr th:only-of-type {\n",
       "        vertical-align: middle;\n",
       "    }\n",
       "\n",
       "    .dataframe tbody tr th {\n",
       "        vertical-align: top;\n",
       "    }\n",
       "\n",
       "    .dataframe thead th {\n",
       "        text-align: right;\n",
       "    }\n",
       "</style>\n",
       "<table border=\"1\" class=\"dataframe\">\n",
       "  <thead>\n",
       "    <tr style=\"text-align: right;\">\n",
       "      <th></th>\n",
       "      <th>age</th>\n",
       "      <th>sex</th>\n",
       "      <th>dataset</th>\n",
       "      <th>cp</th>\n",
       "      <th>trestbps</th>\n",
       "      <th>chol</th>\n",
       "      <th>fbs</th>\n",
       "      <th>restecg</th>\n",
       "      <th>thalch</th>\n",
       "      <th>exang</th>\n",
       "      <th>oldpeak</th>\n",
       "      <th>target</th>\n",
       "    </tr>\n",
       "  </thead>\n",
       "  <tbody>\n",
       "    <tr>\n",
       "      <th>0</th>\n",
       "      <td>63</td>\n",
       "      <td>Male</td>\n",
       "      <td>Cleveland</td>\n",
       "      <td>typical angina</td>\n",
       "      <td>145.0</td>\n",
       "      <td>233.0</td>\n",
       "      <td>True</td>\n",
       "      <td>lv hypertrophy</td>\n",
       "      <td>150.0</td>\n",
       "      <td>False</td>\n",
       "      <td>2.3</td>\n",
       "      <td>0</td>\n",
       "    </tr>\n",
       "    <tr>\n",
       "      <th>1</th>\n",
       "      <td>67</td>\n",
       "      <td>Male</td>\n",
       "      <td>Cleveland</td>\n",
       "      <td>asymptomatic</td>\n",
       "      <td>160.0</td>\n",
       "      <td>286.0</td>\n",
       "      <td>False</td>\n",
       "      <td>lv hypertrophy</td>\n",
       "      <td>108.0</td>\n",
       "      <td>True</td>\n",
       "      <td>1.5</td>\n",
       "      <td>1</td>\n",
       "    </tr>\n",
       "    <tr>\n",
       "      <th>2</th>\n",
       "      <td>67</td>\n",
       "      <td>Male</td>\n",
       "      <td>Cleveland</td>\n",
       "      <td>asymptomatic</td>\n",
       "      <td>120.0</td>\n",
       "      <td>229.0</td>\n",
       "      <td>False</td>\n",
       "      <td>lv hypertrophy</td>\n",
       "      <td>129.0</td>\n",
       "      <td>True</td>\n",
       "      <td>2.6</td>\n",
       "      <td>1</td>\n",
       "    </tr>\n",
       "    <tr>\n",
       "      <th>3</th>\n",
       "      <td>37</td>\n",
       "      <td>Male</td>\n",
       "      <td>Cleveland</td>\n",
       "      <td>non-anginal</td>\n",
       "      <td>130.0</td>\n",
       "      <td>250.0</td>\n",
       "      <td>False</td>\n",
       "      <td>normal</td>\n",
       "      <td>187.0</td>\n",
       "      <td>False</td>\n",
       "      <td>3.5</td>\n",
       "      <td>0</td>\n",
       "    </tr>\n",
       "    <tr>\n",
       "      <th>4</th>\n",
       "      <td>41</td>\n",
       "      <td>Female</td>\n",
       "      <td>Cleveland</td>\n",
       "      <td>atypical angina</td>\n",
       "      <td>130.0</td>\n",
       "      <td>204.0</td>\n",
       "      <td>False</td>\n",
       "      <td>lv hypertrophy</td>\n",
       "      <td>172.0</td>\n",
       "      <td>False</td>\n",
       "      <td>1.4</td>\n",
       "      <td>0</td>\n",
       "    </tr>\n",
       "  </tbody>\n",
       "</table>\n",
       "</div>"
      ],
      "text/plain": [
       "   age     sex    dataset               cp  trestbps   chol    fbs  \\\n",
       "0   63    Male  Cleveland   typical angina     145.0  233.0   True   \n",
       "1   67    Male  Cleveland     asymptomatic     160.0  286.0  False   \n",
       "2   67    Male  Cleveland     asymptomatic     120.0  229.0  False   \n",
       "3   37    Male  Cleveland      non-anginal     130.0  250.0  False   \n",
       "4   41  Female  Cleveland  atypical angina     130.0  204.0  False   \n",
       "\n",
       "          restecg  thalch  exang  oldpeak  target  \n",
       "0  lv hypertrophy   150.0  False      2.3       0  \n",
       "1  lv hypertrophy   108.0   True      1.5       1  \n",
       "2  lv hypertrophy   129.0   True      2.6       1  \n",
       "3          normal   187.0  False      3.5       0  \n",
       "4  lv hypertrophy   172.0  False      1.4       0  "
      ]
     },
     "execution_count": 13,
     "metadata": {},
     "output_type": "execute_result"
    }
   ],
   "source": [
    "df_model.head()"
   ]
  },
  {
   "cell_type": "markdown",
   "id": "eb5346bc",
   "metadata": {},
   "source": [
    "2.2 Identify column types"
   ]
  },
  {
   "cell_type": "code",
   "execution_count": 14,
   "id": "19670b91",
   "metadata": {},
   "outputs": [],
   "source": [
    "categorical_cols = ['sex', 'cp', 'fbs', 'restecg', 'exang']\n",
    "numeric_cols = ['age', 'trestbps', 'chol', 'thalch', 'oldpeak']"
   ]
  },
  {
   "cell_type": "markdown",
   "id": "de8f2ed5",
   "metadata": {},
   "source": [
    "2.3 One-hot encode categorical columns"
   ]
  },
  {
   "cell_type": "code",
   "execution_count": 15,
   "id": "cfbbfd6b",
   "metadata": {},
   "outputs": [],
   "source": [
    "df_encoded = pd.get_dummies(df_model, columns=categorical_cols, drop_first=True)"
   ]
  },
  {
   "cell_type": "markdown",
   "id": "39f8ba83",
   "metadata": {},
   "source": [
    "This converts categorical text variables into numeric dummy columns."
   ]
  },
  {
   "cell_type": "markdown",
   "id": "d4f93cd7",
   "metadata": {},
   "source": [
    "2.4 Scale numeric features"
   ]
  },
  {
   "cell_type": "code",
   "execution_count": 16,
   "id": "87a01379",
   "metadata": {},
   "outputs": [],
   "source": [
    "from sklearn.preprocessing import StandardScaler\n",
    "\n",
    "scaler = StandardScaler()\n",
    "df_encoded[numeric_cols] = scaler.fit_transform(df_encoded[numeric_cols])"
   ]
  },
  {
   "cell_type": "markdown",
   "id": "22369650",
   "metadata": {},
   "source": [
    "2.5 Split into train/test sets"
   ]
  },
  {
   "cell_type": "code",
   "execution_count": 17,
   "id": "116df8d4",
   "metadata": {},
   "outputs": [
    {
     "name": "stdout",
     "output_type": "stream",
     "text": [
      "X_train shape: (736, 14)\n",
      "X_test shape: (184, 14)\n",
      "y_train shape: (736,)\n",
      "y_test shape: (184,)\n"
     ]
    }
   ],
   "source": [
    "from sklearn.model_selection import train_test_split\n",
    "\n",
    "X = df_encoded.drop('target', axis=1)\n",
    "y = df_encoded['target']\n",
    "\n",
    "X_train, X_test, y_train, y_test = train_test_split(X, y, test_size=0.2, random_state=42, stratify=y)\n",
    "# Verify shapes\n",
    "print(\"X_train shape:\", X_train.shape)\n",
    "print(\"X_test shape:\", X_test.shape)\n",
    "print(\"y_train shape:\", y_train.shape)\n",
    "print(\"y_test shape:\", y_test.shape)\n"
   ]
  },
  {
   "cell_type": "markdown",
   "id": "59c447c8",
   "metadata": {},
   "source": [
    "## Step 3: Model Selection and Training"
   ]
  },
  {
   "cell_type": "code",
   "execution_count": 18,
   "id": "65d6325d",
   "metadata": {},
   "outputs": [
    {
     "name": "stdout",
     "output_type": "stream",
     "text": [
      "Imports done.\n"
     ]
    }
   ],
   "source": [
    "from sklearn.model_selection import train_test_split, GridSearchCV, cross_val_score\n",
    "from sklearn.compose import ColumnTransformer, make_column_selector\n",
    "from sklearn.pipeline import Pipeline\n",
    "from sklearn.preprocessing import OneHotEncoder, StandardScaler\n",
    "from sklearn.linear_model import LogisticRegression\n",
    "from sklearn.ensemble import RandomForestClassifier\n",
    "from sklearn.metrics import (\n",
    "    accuracy_score, classification_report, confusion_matrix,\n",
    "    roc_auc_score, roc_curve, RocCurveDisplay\n",
    ")\n",
    "import joblib\n",
    "\n",
    "sns.set(style=\"whitegrid\")\n",
    "%matplotlib inline\n",
    "\n",
    "print(\"Imports done.\")\n"
   ]
  },
  {
   "cell_type": "markdown",
   "id": "4862e62d",
   "metadata": {},
   "source": [
    "3.1 Prepare features (X) and target (y)"
   ]
  },
  {
   "cell_type": "code",
   "execution_count": 19,
   "id": "b2037bad",
   "metadata": {},
   "outputs": [
    {
     "name": "stdout",
     "output_type": "stream",
     "text": [
      "X_train shape: (736, 14)\n",
      "X_test shape: (184, 14)\n",
      "Target distribution in train: {1: 0.5529891304347826, 0: 0.4470108695652174}\n",
      "Target distribution in test : {1: 0.5543478260869565, 0: 0.44565217391304346}\n"
     ]
    }
   ],
   "source": [
    "# Quick checks\n",
    "print(\"X_train shape:\", X_train.shape)\n",
    "print(\"X_test shape:\", X_test.shape)\n",
    "print(\"Target distribution in train:\", y_train.value_counts(normalize=True).to_dict())\n",
    "print(\"Target distribution in test :\", y_test.value_counts(normalize=True).to_dict())"
   ]
  },
  {
   "cell_type": "markdown",
   "id": "610429c9",
   "metadata": {},
   "source": [
    "Training and test sets are ready for preprocessing and the target is balanced."
   ]
  },
  {
   "cell_type": "markdown",
   "id": "3c6c6416",
   "metadata": {},
   "source": [
    "3.2 Detect numeric columns with low cardinality to treat as categorical"
   ]
  },
  {
   "cell_type": "code",
   "execution_count": 20,
   "id": "4caf8db9",
   "metadata": {},
   "outputs": [
    {
     "name": "stdout",
     "output_type": "stream",
     "text": [
      "Numeric columns to cast as categorical: []\n",
      "\n",
      "Feature types after casting:\n",
      "bool       8\n",
      "float64    5\n",
      "object     1\n",
      "Name: count, dtype: int64\n"
     ]
    }
   ],
   "source": [
    "cardinality_threshold = 10  # numeric columns with <=10 unique values are treated as categorical\n",
    "\n",
    "# Identify numeric columns\n",
    "numeric_candidates = X_train.select_dtypes(include=[np.number]).columns.tolist()\n",
    "\n",
    "# Detect numeric columns to cast\n",
    "numeric_to_cast = [c for c in numeric_candidates if X_train[c].nunique(dropna=False) <= cardinality_threshold]\n",
    "print(\"Numeric columns to cast as categorical:\", numeric_to_cast)\n",
    "\n",
    "# Cast these columns in both train and test sets\n",
    "X_train = X_train.copy()\n",
    "X_test = X_test.copy()\n",
    "for c in numeric_to_cast:\n",
    "    X_train[c] = X_train[c].astype(str)\n",
    "    X_test[c] = X_test[c].astype(str)\n",
    "\n",
    "# Verify dtypes\n",
    "print(\"\\nFeature types after casting:\")\n",
    "print(X_train.dtypes.value_counts())"
   ]
  },
  {
   "cell_type": "markdown",
   "id": "9fa45a18",
   "metadata": {},
   "source": [
    "3.3 Build ColumnTransformer & Pipelines"
   ]
  },
  {
   "cell_type": "markdown",
   "id": "1b60356c",
   "metadata": {},
   "source": [
    "Preprocessing pipeline that:\n",
    "\n",
    "Scales numeric features\n",
    "\n",
    "One-hot encodes categorical and boolean features\n",
    "\n",
    "Can be combined with a classifier (Logistic Regression or Random Forest)"
   ]
  },
  {
   "cell_type": "code",
   "execution_count": 21,
   "id": "53ff7b24",
   "metadata": {},
   "outputs": [
    {
     "name": "stdout",
     "output_type": "stream",
     "text": [
      "Pipelines ready for model training.\n"
     ]
    }
   ],
   "source": [
    "# --- Selectors ---\n",
    "num_selector  = make_column_selector(dtype_include=np.number)\n",
    "cat_selector  = make_column_selector(dtype_include=object)\n",
    "bool_selector = make_column_selector(dtype_include=bool)\n",
    "\n",
    "# --- Transformers ---\n",
    "numeric_transformer = StandardScaler()\n",
    "categorical_transformer = OneHotEncoder(drop='first', handle_unknown='ignore', sparse_output=False)\n",
    "\n",
    "# --- ColumnTransformer ---\n",
    "preprocessor = ColumnTransformer(\n",
    "    transformers=[\n",
    "        (\"num\", numeric_transformer, num_selector),\n",
    "        (\"cat_obj\", categorical_transformer, cat_selector),\n",
    "        (\"cat_bool\", categorical_transformer, bool_selector)\n",
    "    ],\n",
    "    remainder='drop',       # drop any columns not selected\n",
    "    sparse_threshold=0      # return dense array\n",
    ")\n",
    "\n",
    "# --- Pipelines ---\n",
    "pipe_log = Pipeline([(\"pre\", preprocessor),\n",
    "                     (\"clf\", LogisticRegression(max_iter=1000, random_state=42))])\n",
    "\n",
    "pipe_rf = Pipeline([(\"pre\", preprocessor),\n",
    "                    (\"clf\", RandomForestClassifier(random_state=42, n_jobs=-1))])\n",
    "\n",
    "print(\"Pipelines ready for model training.\")"
   ]
  },
  {
   "cell_type": "markdown",
   "id": "60162022",
   "metadata": {},
   "source": [
    "3.4 GridSearchCV for Logistic Regression"
   ]
  },
  {
   "cell_type": "markdown",
   "id": "27055d51",
   "metadata": {},
   "source": [
    "What this does:\n",
    "\n",
    "Tries all combinations of penalty and C with 5-fold CV.\n",
    "\n",
    "Picks the hyperparameters that maximize ROC-AUC.\n",
    "\n",
    "Preprocessing (scaling + one-hot) happens inside the pipeline, so no leakage occurs."
   ]
  },
  {
   "cell_type": "code",
   "execution_count": 22,
   "id": "cd17eb0d",
   "metadata": {},
   "outputs": [
    {
     "name": "stdout",
     "output_type": "stream",
     "text": [
      "Fitting 5 folds for each of 8 candidates, totalling 40 fits\n",
      "Best Logistic Regression params: {'clf__C': 10, 'clf__penalty': 'l1', 'clf__solver': 'liblinear'}\n",
      "Best CV ROC-AUC: 0.8861540637421396\n"
     ]
    }
   ],
   "source": [
    "# --- Logistic Regression parameter grid ---\n",
    "param_grid_log = {\n",
    "    \"clf__penalty\": [\"l1\", \"l2\"],   # regularization type\n",
    "    \"clf__C\": [0.01, 0.1, 1, 10],  # inverse of regularization strength\n",
    "    \"clf__solver\": [\"liblinear\"]    # liblinear supports both l1 and l2\n",
    "}\n",
    "\n",
    "# --- GridSearchCV with 5-fold CV ---\n",
    "gs_log = GridSearchCV(\n",
    "    estimator=pipe_log,\n",
    "    param_grid=param_grid_log,\n",
    "    cv=5,\n",
    "    scoring='roc_auc',   # robust for binary classification\n",
    "    n_jobs=-1,\n",
    "    verbose=1\n",
    ")\n",
    "\n",
    "# --- Fit GridSearchCV ---\n",
    "gs_log.fit(X_train, y_train)\n",
    "\n",
    "# --- Best params and CV score ---\n",
    "print(\"Best Logistic Regression params:\", gs_log.best_params_)\n",
    "print(\"Best CV ROC-AUC:\", gs_log.best_score_)\n"
   ]
  },
  {
   "cell_type": "code",
   "execution_count": 23,
   "id": "933def9f",
   "metadata": {},
   "outputs": [
    {
     "name": "stdout",
     "output_type": "stream",
     "text": [
      "Accuracy: 0.8260869565217391\n",
      "ROC-AUC: 0.9196556671449068\n",
      "\n",
      "Classification Report:\n",
      "               precision    recall  f1-score   support\n",
      "\n",
      "           0       0.81      0.79      0.80        82\n",
      "           1       0.84      0.85      0.84       102\n",
      "\n",
      "    accuracy                           0.83       184\n",
      "   macro avg       0.82      0.82      0.82       184\n",
      "weighted avg       0.83      0.83      0.83       184\n",
      "\n",
      "Confusion Matrix:\n",
      " [[65 17]\n",
      " [15 87]]\n"
     ]
    },
    {
     "data": {
      "image/png": "[encoded data removed]",
      "text/plain": [
       "<Figure size 600x500 with 1 Axes>"
      ]
     },
     "metadata": {},
     "output_type": "display_data"
    }
   ],
   "source": [
    "from sklearn.metrics import accuracy_score, classification_report, confusion_matrix, roc_auc_score, roc_curve\n",
    "\n",
    "# --- Get the best model ---\n",
    "best_log = gs_log.best_estimator_\n",
    "\n",
    "# --- Predictions and probabilities ---\n",
    "y_pred = best_log.predict(X_test)\n",
    "y_proba = best_log.predict_proba(X_test)[:, 1]  # probability of positive class\n",
    "\n",
    "# --- Metrics ---\n",
    "print(\"Accuracy:\", accuracy_score(y_test, y_pred))\n",
    "print(\"ROC-AUC:\", roc_auc_score(y_test, y_proba))\n",
    "print(\"\\nClassification Report:\\n\", classification_report(y_test, y_pred))\n",
    "print(\"Confusion Matrix:\\n\", confusion_matrix(y_test, y_pred))\n",
    "\n",
    "# --- ROC Curve ---\n",
    "fpr, tpr, _ = roc_curve(y_test, y_proba)\n",
    "plt.figure(figsize=(6,5))\n",
    "plt.plot(fpr, tpr, label=f\"Logistic Regression AUC = {roc_auc_score(y_test, y_proba):.3f}\")\n",
    "plt.plot([0,1], [0,1], 'k--')\n",
    "plt.xlabel(\"False Positive Rate\")\n",
    "plt.ylabel(\"True Positive Rate\")\n",
    "plt.title(\"ROC Curve - Logistic Regression\")\n",
    "plt.legend()\n",
    "plt.show()\n"
   ]
  },
  {
   "cell_type": "markdown",
   "id": "37818aec",
   "metadata": {},
   "source": [
    "Interpretation:\n",
    "\n",
    "Accuracy: ~82.6% → the model correctly predicts the outcome for ~83% of patients.\n",
    "\n",
    "ROC-AUC: 0.92 → excellent discriminative ability between patients with and without heart disease.\n",
    "\n",
    "[[65 17]   ← true 0 predicted as 0 vs misclassified\n",
    " [15 87]]  ← true 1 predicted as 1 vs misclassified\n",
    "\n",
    "Only 32 misclassifications out of 184, which is solid."
   ]
  },
  {
   "cell_type": "markdown",
   "id": "5e0f1448",
   "metadata": {},
   "source": [
    "3.5 Random Forest: GridSearchCV + Evaluation"
   ]
  },
  {
   "cell_type": "code",
   "execution_count": 24,
   "id": "c9bbe17a",
   "metadata": {},
   "outputs": [
    {
     "name": "stdout",
     "output_type": "stream",
     "text": [
      "Fitting 5 folds for each of 12 candidates, totalling 60 fits\n",
      "Best Random Forest params: {'clf__max_depth': 5, 'clf__min_samples_split': 5, 'clf__n_estimators': 300}\n",
      "Best CV ROC-AUC: 0.878349248864154\n"
     ]
    }
   ],
   "source": [
    "# --- Random Forest parameter grid ---\n",
    "param_grid_rf = {\n",
    "    \"clf__n_estimators\": [100, 300],      # number of trees\n",
    "    \"clf__max_depth\": [None, 5, 10],      # max tree depth\n",
    "    \"clf__min_samples_split\": [2, 5]      # minimum samples per split\n",
    "}\n",
    "\n",
    "# --- GridSearchCV for RF ---\n",
    "gs_rf = GridSearchCV(\n",
    "    estimator=pipe_rf,\n",
    "    param_grid=param_grid_rf,\n",
    "    cv=5,\n",
    "    scoring='roc_auc',\n",
    "    n_jobs=-1,\n",
    "    verbose=1\n",
    ")\n",
    "\n",
    "# --- Fit GridSearchCV ---\n",
    "gs_rf.fit(X_train, y_train)\n",
    "\n",
    "# --- Best params and CV score ---\n",
    "print(\"Best Random Forest params:\", gs_rf.best_params_)\n",
    "print(\"Best CV ROC-AUC:\", gs_rf.best_score_)"
   ]
  },
  {
   "cell_type": "code",
   "execution_count": 25,
   "id": "9968348c",
   "metadata": {},
   "outputs": [
    {
     "name": "stdout",
     "output_type": "stream",
     "text": [
      "Random Forest Accuracy: 0.8369565217391305\n",
      "Random Forest ROC-AUC: 0.9197752271640363\n",
      "\n",
      "Classification Report:\n",
      "               precision    recall  f1-score   support\n",
      "\n",
      "           0       0.84      0.78      0.81        82\n",
      "           1       0.83      0.88      0.86       102\n",
      "\n",
      "    accuracy                           0.84       184\n",
      "   macro avg       0.84      0.83      0.83       184\n",
      "weighted avg       0.84      0.84      0.84       184\n",
      "\n",
      "Confusion Matrix:\n",
      " [[64 18]\n",
      " [12 90]]\n"
     ]
    },
    {
     "data": {
      "image/png": "[encoded data removed]",
      "text/plain": [
       "<Figure size 600x500 with 1 Axes>"
      ]
     },
     "metadata": {},
     "output_type": "display_data"
    }
   ],
   "source": [
    "# Get best RF model\n",
    "best_rf = gs_rf.best_estimator_\n",
    "\n",
    "# Predictions & probabilities\n",
    "y_pred_rf = best_rf.predict(X_test)\n",
    "y_proba_rf = best_rf.predict_proba(X_test)[:,1]\n",
    "\n",
    "# Metrics\n",
    "print(\"Random Forest Accuracy:\", accuracy_score(y_test, y_pred_rf))\n",
    "print(\"Random Forest ROC-AUC:\", roc_auc_score(y_test, y_proba_rf))\n",
    "print(\"\\nClassification Report:\\n\", classification_report(y_test, y_pred_rf))\n",
    "print(\"Confusion Matrix:\\n\", confusion_matrix(y_test, y_pred_rf))\n",
    "\n",
    "# ROC Curve\n",
    "fpr_rf, tpr_rf, _ = roc_curve(y_test, y_proba_rf)\n",
    "plt.figure(figsize=(6,5))\n",
    "plt.plot(fpr_rf, tpr_rf, label=f\"RF AUC = {roc_auc_score(y_test, y_proba_rf):.3f}\")\n",
    "plt.plot(fpr, tpr, label=f\"LogReg AUC = {roc_auc_score(y_test, y_proba):.3f}\", linestyle='--')\n",
    "plt.plot([0,1],[0,1],'k--')\n",
    "plt.xlabel(\"False Positive Rate\")\n",
    "plt.ylabel(\"True Positive Rate\")\n",
    "plt.title(\"ROC Curve - RF vs LogReg\")\n",
    "plt.legend()\n",
    "plt.show()\n",
    "\n",
    "# Save the best model (choose between best_log and best_rf)\n",
    "# final_model = best_rf  # or best_log\n",
    "# model_filename = os.path.join(DATA_DIR, \"heart_disease_model.joblib\")\n",
    "# joblib.dump(final_model, model_filename)\n",
    "# print(f\"Model saved to {model_filename}\")"
   ]
  },
  {
   "cell_type": "markdown",
   "id": "744a0cd4",
   "metadata": {},
   "source": [
    "Random Forest performance\n",
    "\n",
    "Accuracy: ~83.7% → slightly higher than Logistic Regression (~82.6%).\n",
    "\n",
    "ROC-AUC: 0.92 → virtually identical to Logistic Regression (0.9197 vs 0.9196).\n",
    "\n",
    "Precision / Recall:\n",
    "\n",
    "Class 0 (no disease): precision 0.84, recall 0.78 → a few more false negatives.\n",
    "\n",
    "Class 1 (disease): precision 0.83, recall 0.88 → better recall for diseased patients than Logistic Regression.\n",
    "\n",
    "Confusion Matrix: Only 30 misclassifications, slightly better detection of diseased patients."
   ]
  },
  {
   "cell_type": "markdown",
   "id": "9dbb8424",
   "metadata": {},
   "source": [
    "#### Comparison with Logistic Regression\n",
    "\n",
    "Both models have very similar ROC-AUC (~0.92), which indicates excellent discrimination.\n",
    "\n",
    "Random Forest slightly improves recall for diseased patients, which can be important in a medical context (catch more true positives).\n",
    "\n",
    "Logistic Regression is simpler and interpretable; Random Forest can capture non-linear relationships."
   ]
  },
  {
   "cell_type": "markdown",
   "id": "105f3531",
   "metadata": {},
   "source": [
    "3.6 Feature Importances / Coefficients"
   ]
  },
  {
   "cell_type": "code",
   "execution_count": 26,
   "id": "184f0588",
   "metadata": {},
   "outputs": [
    {
     "name": "stdout",
     "output_type": "stream",
     "text": [
      "Number of features after preprocessing: 16\n",
      "First 20 feature names: ['age', 'trestbps', 'chol', 'thalch', 'oldpeak', 'dataset_Hungary', 'dataset_Switzerland', 'dataset_VA Long Beach', 'sex_Male_True', 'cp_atypical angina_True', 'cp_non-anginal_True', 'cp_typical angina_True', 'fbs_True_True', 'restecg_normal_True', 'restecg_st-t abnormality_True', 'exang_True_True']\n"
     ]
    }
   ],
   "source": [
    "def get_feature_names_from_preprocessor(fitted_preprocessor, X_sample):\n",
    "    feat_names = []\n",
    "    for name, trans, cols in fitted_preprocessor.transformers_:\n",
    "        if name == 'remainder':\n",
    "            continue\n",
    "        # resolve callable selector to column names\n",
    "        if callable(cols):\n",
    "            cols = cols(X_sample)\n",
    "        if isinstance(trans, StandardScaler):\n",
    "            feat_names.extend(cols)\n",
    "        elif isinstance(trans, OneHotEncoder):\n",
    "            ohe = trans\n",
    "            cats = ohe.categories_\n",
    "            for col, cats_for_col in zip(cols, cats):\n",
    "                cats_to_use = list(cats_for_col)[1:] if getattr(ohe, \"drop\", None) is not None else list(cats_for_col)\n",
    "                for cat in cats_to_use:\n",
    "                    feat_names.append(f\"{col}_{cat}\")\n",
    "        else:\n",
    "            feat_names.extend(cols)\n",
    "    return feat_names\n",
    "\n",
    "# --- get fitted preprocessor from the pipeline ---\n",
    "fitted_preprocessor_log = best_log.named_steps['pre']\n",
    "fitted_preprocessor_rf = best_rf.named_steps['pre']\n",
    "\n",
    "# --- extract feature names ---\n",
    "feature_names_log = get_feature_names_from_preprocessor(fitted_preprocessor_log, X_train)\n",
    "feature_names_rf  = get_feature_names_from_preprocessor(fitted_preprocessor_rf, X_train)\n",
    "\n",
    "print(\"Number of features after preprocessing:\", len(feature_names_log))\n",
    "print(\"First 20 feature names:\", feature_names_log[:20])\n"
   ]
  },
  {
   "cell_type": "code",
   "execution_count": 27,
   "id": "4bfb6a80",
   "metadata": {},
   "outputs": [
    {
     "name": "stdout",
     "output_type": "stream",
     "text": [
      "Top 10 most important features (Logistic Regression):\n",
      "                    feature      coef\n",
      "6       dataset_Switzerland  3.288014\n",
      "9   cp_atypical angina_True -1.904277\n",
      "8             sex_Male_True  1.282339\n",
      "10      cp_non-anginal_True -1.101274\n",
      "11   cp_typical angina_True -1.063010\n",
      "15          exang_True_True  1.047578\n",
      "7     dataset_VA Long Beach  0.667923\n",
      "4                   oldpeak  0.637469\n",
      "12            fbs_True_True  0.447190\n",
      "13      restecg_normal_True -0.367614\n"
     ]
    }
   ],
   "source": [
    "coef = best_log.named_steps['clf'].coef_[0]\n",
    "coef_df = pd.DataFrame({\"feature\": feature_names_log, \"coef\": coef})\n",
    "# Sort by absolute value of coefficients\n",
    "coef_df[\"abs_coef\"] = coef_df[\"coef\"].abs()\n",
    "coef_df = coef_df.sort_values(by=\"abs_coef\", ascending=False)\n",
    "\n",
    "print(\"Top 10 most important features (Logistic Regression):\")\n",
    "print(coef_df.head(10).drop(columns=\"abs_coef\"))\n"
   ]
  },
  {
   "cell_type": "code",
   "execution_count": 28,
   "id": "06c8826c",
   "metadata": {},
   "outputs": [
    {
     "name": "stdout",
     "output_type": "stream",
     "text": [
      "Top 10 most important features (Random Forest):\n",
      "                    feature  importance\n",
      "15          exang_True_True    0.169474\n",
      "4                   oldpeak    0.139443\n",
      "9   cp_atypical angina_True    0.136004\n",
      "3                    thalch    0.124686\n",
      "0                       age    0.094727\n",
      "2                      chol    0.088740\n",
      "6       dataset_Switzerland    0.059707\n",
      "8             sex_Male_True    0.055742\n",
      "10      cp_non-anginal_True    0.035161\n",
      "1                  trestbps    0.029897\n"
     ]
    }
   ],
   "source": [
    "importances = best_rf.named_steps['clf'].feature_importances_\n",
    "rf_feat_df = pd.DataFrame({\"feature\": feature_names_rf, \"importance\": importances})\n",
    "rf_feat_df = rf_feat_df.sort_values('importance', ascending=False)\n",
    "\n",
    "print(\"Top 10 most important features (Random Forest):\")\n",
    "print(rf_feat_df.head(10))\n"
   ]
  },
  {
   "cell_type": "code",
   "execution_count": 29,
   "id": "38ec1648",
   "metadata": {},
   "outputs": [
    {
     "name": "stdout",
     "output_type": "stream",
     "text": [
      "Logistic Regression model saved as 'logistic_regression_heart_model.pkl'\n"
     ]
    }
   ],
   "source": [
    "# Save the entire pipeline including preprocessing and classifier\n",
    "joblib.dump(best_log, \"../logistic_regression_heart_model.pkl\")\n",
    "\n",
    "print(\"Logistic Regression model saved as 'logistic_regression_heart_model.pkl'\")"
   ]
  },
  {
   "cell_type": "markdown",
   "id": "6684aa4b",
   "metadata": {},
   "source": [
    "Intrepretation:\n",
    "Analysis:\n",
    "\n",
    "Performance: Both models perform almost identically in terms of ROC-AUC (0.9197 vs 0.9198) — very strong discriminative power. Random Forest has slightly better recall for diseased patients, which is important in medical diagnostics (better at catching true positives).\n",
    "\n",
    "Interpretability: Logistic Regression is fully interpretable; coefficients can be mapped to clinical features. Random Forest is less interpretable, though feature importances help.\n",
    "\n",
    "Clinical use: For deployment in a hospital or research setting, interpretability is often valuable, especially if you want clinicians to trust and understand the model.\n",
    "\n",
    "✅ Verdict:\n",
    "\n",
    "If you prioritize slightly better predictive power → Random Forest.\n",
    "\n",
    "If you prioritize interpretability and clinical insight → Logistic Regression.\n",
    "\n",
    "Given how close the performance is, Logistic Regression is a strong choice because it balances accuracy and interpretability — and the important clinical features (exang, oldpeak, age, sex) are clearly visible."
   ]
  }
 ],
 "metadata": {
  "kernelspec": {
   "display_name": ".venv",
   "language": "python",
   "name": "python3"
  },
  "language_info": {
   "codemirror_mode": {
    "name": "ipython",
    "version": 3
   },
   "file_extension": ".py",
   "mimetype": "text/x-python",
   "name": "python",
   "nbconvert_exporter": "python",
   "pygments_lexer": "ipython3",
   "version": "3.11.8"
  }
 },
 "nbformat": 4,
 "nbformat_minor": 5
}
